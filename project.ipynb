{
 "cells": [
  {
   "cell_type": "markdown",
   "metadata": {},
   "source": [
    "import networkx as nx\n",
    "import matplotlib.pyplot as plt\n",
    "from pyvis.network import Network"
   ]
  },
  {
   "cell_type": "code",
   "execution_count": null,
   "metadata": {},
   "outputs": [],
   "source": [
    "'''\n",
    "#index 1\n",
    "#n O. Willum\n",
    "#a Res. Center for Microperipherik, Technische Univ. Berlin, Germany\n",
    "#pc 1\n",
    "#cn 0\n",
    "#hi 0\n",
    "#pi 0.0000\n",
    "#upi 0.0000\n",
    "#t new product;product group;active product;long product lifetime;old product;product generation;new technology;environmental benefit;environmental choice;environmental consequence\n",
    "'''\n",
    "\n",
    "with open('data/AMiner-Author.txt', 'r') as file:\n",
    "    data = file.read().split('\\n\\n')\n",
    "    \n",
    "author={}    \n",
    "detail = ['index','n', 'a', 'pc', 'cn', 'hi', 'pi', 'upi', 't']\n",
    "for auth in data:\n",
    "    info = auth.split('\\n')\n",
    "    if info[0] is '':\n",
    "        break\n",
    "    index = info[0].split(' ')[1]\n",
    "    author[index]={}\n",
    "    for num,each in enumerate(detail):\n",
    "        author[index][each] = info[num].replace('#'+each+' ', '')\n",
    "    author[index]['a'] = author[index]['a'].split(', ')\n",
    "    author[index]['t'] = author[index]['t'].split(';')\n",
    "    author[index]['field'] = []\n",
    "    author[index]['field']+=([item for field in author[index]['t'] for item in field.split(' ')])"
   ]
  },
  {
   "cell_type": "code",
   "execution_count": null,
   "metadata": {},
   "outputs": [],
   "source": [
    "def filter(dataset, by_type, keyword):\n",
    "    filtered_list = []\n",
    "    for index in dataset:\n",
    "        if keyword in dataset[index][by_type]:\n",
    "            filtered_list.append(index)\n",
    "    return filtered_list"
   ]
  },
  {
   "cell_type": "code",
   "execution_count": null,
   "metadata": {},
   "outputs": [],
   "source": [
    "'''\n",
    "#index ---- index id of this paper\n",
    "#* ---- paper title\n",
    "#@ ---- authors (separated by semicolons)\n",
    "#o ---- affiliations (separated by semicolons, and each affiliaiton corresponds to an author in order)\n",
    "#t ---- year\n",
    "#c ---- publication venue\n",
    "#% ---- the id of references of this paper (there are multiple lines, with each indicating a reference)\n",
    "#! ---- abstract\n",
    "'''\n",
    "\n",
    "with open('data/Aminer-Paper.txt', 'r') as file:\n",
    "    data = file.read().split('\\n\\n')\n",
    "    \n",
    "citation={}    \n",
    "detail = ['index','*', '@', 'o', 't', 'c']\n",
    "for paper in data:\n",
    "    info = paper.split('\\n')\n",
    "    if info[0] is '':\n",
    "        break\n",
    "    index = info[0].split(' ')[1]\n",
    "    citation[index]={}\n",
    "    for num,each in enumerate(detail):\n",
    "        citation[index][each] = info[num].replace('#'+each+' ', '')\n",
    "    citation[index]['%']=[]\n",
    "    citation[index]['!']=[]\n",
    "    for each in info[6:]:\n",
    "        if each[0:2] == '#!':\n",
    "            citation[index]['!'].append(each.split(' ')[1])\n",
    "        else:\n",
    "            citation[index]['%'].append(each.split(' ')[1])\n",
    "\n"
   ]
  },
  {
   "cell_type": "code",
   "execution_count": null,
   "metadata": {},
   "outputs": [],
   "source": [
    "print(len(citation))"
   ]
  },
  {
   "cell_type": "code",
   "execution_count": null,
   "metadata": {},
   "outputs": [],
   "source": []
  }
 ],
 "metadata": {
  "kernelspec": {
   "display_name": "Python 3",
   "language": "python",
   "name": "python3"
  },
  "language_info": {
   "codemirror_mode": {
    "name": "ipython",
    "version": 3
   },
   "file_extension": ".py",
   "mimetype": "text/x-python",
   "name": "python",
   "nbconvert_exporter": "python",
   "pygments_lexer": "ipython3",
   "version": "3.7.3"
  }
 },
 "nbformat": 4,
 "nbformat_minor": 4
}
