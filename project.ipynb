{
 "cells": [
  {
   "cell_type": "code",
   "execution_count": 15,
   "metadata": {},
   "outputs": [],
   "source": [
    "%run src/visual.ipynb"
   ]
  },
  {
   "cell_type": "markdown",
   "metadata": {},
   "source": [
    "## Data Preprocessing"
   ]
  },
  {
   "cell_type": "code",
   "execution_count": 2,
   "metadata": {},
   "outputs": [],
   "source": [
    "'''\n",
    "#index ---- index id of this author\n",
    "#n ---- name  (separated by semicolons)\n",
    "#a ---- affiliations  (separated by semicolons)\n",
    "#pc ---- the count of published papers of this author\n",
    "#cn ---- the total number of citations of this author\n",
    "#hi ---- the H-index of this author\n",
    "#pi ---- the P-index with equal A-index of this author\n",
    "#upi ---- the P-index with unequal A-index of this author\n",
    "#t ---- research interests of this author  (separated by semicolons)\n",
    "'''\n",
    "\n",
    "with open('data/AMiner-Author.txt', 'r') as file:\n",
    "    data = file.read().split('\\n\\n')\n",
    "    \n",
    "author_dict={}    \n",
    "detail = ['index','n', 'a', 'pc', 'cn', 'hi', 'pi', 'upi', 't']\n",
    "for auth in data:\n",
    "    info = auth.split('\\n')\n",
    "    if info[0] is '':\n",
    "        break\n",
    "    index = info[0].split(' ')[1]\n",
    "    author_dict[index]={}\n",
    "    for num,each in enumerate(detail):\n",
    "        author_dict[index][each] = info[num].replace('#'+each+' ', '')\n",
    "    author_dict[index]['a'] = author_dict[index]['a'].split(', ')\n",
    "    author_dict[index]['t'] = author_dict[index]['t'].split(';')\n",
    "    author_dict[index]['field'] = []\n",
    "    author_dict[index]['field']+=([item for field in author_dict[index]['t'] for item in field.split(' ')])"
   ]
  },
  {
   "cell_type": "code",
   "execution_count": 3,
   "metadata": {},
   "outputs": [],
   "source": [
    "coauthors = []\n",
    "with open('data/AMiner-Coauthor.txt', 'r') as coauthorfile:\n",
    "    for line in coauthorfile:\n",
    "        author1, author2, count = line[1:].split('\\t')\n",
    "        coauthors.append((author1, author2, int(count)))"
   ]
  },
  {
   "cell_type": "code",
   "execution_count": 4,
   "metadata": {},
   "outputs": [],
   "source": [
    "'''\n",
    "#index ---- index id of this paper\n",
    "#* ---- paper title\n",
    "#@ ---- authors (separated by semicolons)\n",
    "#o ---- affiliations (separated by semicolons, and each affiliaiton corresponds to an author in order)\n",
    "#t ---- year\n",
    "#c ---- publication venue\n",
    "#% ---- the id of references of this paper (there are multiple lines, with each indicating a reference)\n",
    "#! ---- abstract\n",
    "'''\n",
    "\n",
    "with open('data/Aminer-Paper.txt', 'r') as file:\n",
    "    data = file.read().split('\\n\\n')\n",
    "    \n",
    "paper_dict={}    \n",
    "detail = ['index','*', '@', 'o', 't', 'c']\n",
    "for paper in data:\n",
    "    info = paper.split('\\n')\n",
    "    if info[0] is '':\n",
    "        break\n",
    "    index = info[0].split(' ')[1]\n",
    "    paper_dict[index]={}\n",
    "    for num,each in enumerate(detail):\n",
    "        paper_dict[index][each] = info[num].replace('#'+each+' ', '')\n",
    "    paper_dict[index]['@'] = paper_dict[index]['@'].split(';')\n",
    "    paper_dict[index]['%']=[]\n",
    "    paper_dict[index]['!']=[]\n",
    "    for each in info[6:]:\n",
    "        if each[0:2] == '#!':\n",
    "            paper_dict[index]['!'].append(each.split(' ')[1])\n",
    "        else:\n",
    "            paper_dict[index]['%'].append(each.split(' ')[1])\n",
    "\n"
   ]
  },
  {
   "cell_type": "code",
   "execution_count": 5,
   "metadata": {},
   "outputs": [
    {
     "name": "stdout",
     "output_type": "stream",
     "text": [
      "length of author: 1712433\n",
      "length of paper: 2092356\n"
     ]
    }
   ],
   "source": [
    "'''Check dictionary size correctness'''\n",
    "print('length of author:',len(author_dict))\n",
    "print('length of paper:',len(paper_dict))"
   ]
  },
  {
   "cell_type": "markdown",
   "metadata": {},
   "source": [
    "## Get Kuo-Chen Chou's Data"
   ]
  },
  {
   "cell_type": "code",
   "execution_count": 6,
   "metadata": {},
   "outputs": [],
   "source": [
    "'''Filter Kuo-Chen Chou's data '''\n",
    "chou = {}\n",
    "chou['author_id'] = filter(author_dict, 'n', 'Kuo-Chen Chou')\n",
    "chou['paper'] = filter(paper_dict, '@', 'Kuo-Chen Chou')\n",
    "chou['personal_info'] = author_dict[chou['author_id'][0]]\n",
    "chou['citation'] = []\n",
    "for paper in chou['paper']:\n",
    "    if paper_dict[paper]['%'] is not None:\n",
    "        for cite in paper_dict[paper]['%']:\n",
    "            chou['citation']+=paper_dict[cite]['@']\n"
   ]
  },
  {
   "cell_type": "code",
   "execution_count": 13,
   "metadata": {
    "scrolled": true
   },
   "outputs": [
    {
     "data": {
      "text/html": [
       "\n",
       "        <iframe\n",
       "            width=\"800\"\n",
       "            height=\"800\"\n",
       "            src=\"graphs/paper_1497118.html\"\n",
       "            frameborder=\"0\"\n",
       "            allowfullscreen\n",
       "        ></iframe>\n",
       "        "
      ],
      "text/plain": [
       "<IPython.lib.display.IFrame at 0x129c84668>"
      ]
     },
     "execution_count": 13,
     "metadata": {},
     "output_type": "execute_result"
    }
   ],
   "source": [
    "visualize(nx.Graph(paper_citation_edge_list(paper_dict, '1497118', 2)), 'paper_1497118.html')"
   ]
  },
  {
   "cell_type": "code",
   "execution_count": 16,
   "metadata": {},
   "outputs": [
    {
     "data": {
      "text/html": [
       "\n",
       "        <iframe\n",
       "            width=\"800\"\n",
       "            height=\"800\"\n",
       "            src=\"graphs/Kuo-Chen_Chou.html\"\n",
       "            frameborder=\"0\"\n",
       "            allowfullscreen\n",
       "        ></iframe>\n",
       "        "
      ],
      "text/plain": [
       "<IPython.lib.display.IFrame at 0x3bafd0b00>"
      ]
     },
     "execution_count": 16,
     "metadata": {},
     "output_type": "execute_result"
    }
   ],
   "source": [
    "visualize(nx.Graph(author_citation_edge_list(paper_dict, 'Kuo-Chen Chou', 2)), 'Kuo-Chen_Chou.html')"
   ]
  },
  {
   "cell_type": "code",
   "execution_count": null,
   "metadata": {},
   "outputs": [],
   "source": []
  }
 ],
 "metadata": {
  "kernelspec": {
   "display_name": "Python 3",
   "language": "python",
   "name": "python3"
  },
  "language_info": {
   "codemirror_mode": {
    "name": "ipython",
    "version": 3
   },
   "file_extension": ".py",
   "mimetype": "text/x-python",
   "name": "python",
   "nbconvert_exporter": "python",
   "pygments_lexer": "ipython3",
   "version": "3.7.3"
  }
 },
 "nbformat": 4,
 "nbformat_minor": 4
}
