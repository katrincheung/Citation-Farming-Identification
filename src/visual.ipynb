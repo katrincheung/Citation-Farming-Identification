{
 "cells": [
  {
   "cell_type": "code",
   "execution_count": 1,
   "metadata": {},
   "outputs": [],
   "source": [
    "import networkx as nx\n",
    "import matplotlib.pyplot as plt\n",
    "from pyvis.network import Network"
   ]
  },
  {
   "cell_type": "markdown",
   "metadata": {},
   "source": [
    "## Visualization"
   ]
  },
  {
   "cell_type": "code",
   "execution_count": 2,
   "metadata": {},
   "outputs": [],
   "source": [
    "# Credit: https://gist.github.com/quadrismegistus/92a7fba479fc1e7d2661909d19d4ae7e\n",
    "\n",
    "def visualize(networkx_graph, name):\n",
    "    pyvis_graph = Network(height=800, width=800, notebook=True)\n",
    "    for node,node_attrs in networkx_graph.nodes(data=True):\n",
    "        pyvis_graph.add_node(node,**node_attrs)\n",
    "\n",
    "    # for each edge and its attributes in the networkx graph\n",
    "    for source,target,edge_attrs in networkx_graph.edges(data=True):\n",
    "        # if value/width not specified directly, and weight is specified, set 'value' to 'weight'\n",
    "        if not 'value' in edge_attrs and not 'width' in edge_attrs and 'weight' in edge_attrs:\n",
    "            # place at key 'value' the weight of the edge\n",
    "            edge_attrs['value']=edge_attrs['weight']\n",
    "        # add the edge\n",
    "        pyvis_graph.add_edge(source,target,**edge_attrs)\n",
    "\n",
    "    return pyvis_graph.show('docs/' + name)"
   ]
  },
  {
   "cell_type": "code",
   "execution_count": 3,
   "metadata": {},
   "outputs": [],
   "source": [
    "'''for weighted graph'''\n",
    "def make_graph(coauth_tuples):\n",
    "    G = nx.Graph()\n",
    "    for coauthor in coauth_tuples:\n",
    "        G.add_edge(coauthor[0], coauthor[1], weight=coauthor[2])\n",
    "    return G"
   ]
  },
  {
   "cell_type": "code",
   "execution_count": 4,
   "metadata": {},
   "outputs": [],
   "source": [
    "def filter(dataset, by_type, keyword):\n",
    "    filtered_list = []\n",
    "    for index in dataset:\n",
    "        if keyword in dataset[index][by_type]:\n",
    "            filtered_list.append(index)\n",
    "    return filtered_list"
   ]
  },
  {
   "cell_type": "code",
   "execution_count": 5,
   "metadata": {},
   "outputs": [],
   "source": [
    "'''build edge_list for specific distance for paper'''\n",
    "\n",
    "def paper_add_edge(paper_dict, paper_id, distance, distance_count):\n",
    "    edge_list = []\n",
    "    if distance == distance_count:\n",
    "        return\n",
    "    distance_count += 1\n",
    "    for node in paper_dict[paper_id]['%']:\n",
    "        edge_list.append((paper_id, node))\n",
    "        if paper_add_edge(paper_dict, node, distance, distance_count) is not None:\n",
    "            edge_list += paper_add_edge(paper_dict, node, distance, distance_count)\n",
    "    return edge_list\n",
    "\n",
    "def paper_citation_edge_list(paper_dict, paper_id, distance):\n",
    "    edge_list = []\n",
    "    distance_count = 0\n",
    "    edge_list+=paper_add_edge(paper_dict, paper_id, distance, distance_count)\n",
    "    return (edge_list)"
   ]
  },
  {
   "cell_type": "code",
   "execution_count": 6,
   "metadata": {},
   "outputs": [],
   "source": [
    "def author_add_edge(paper_dict, author, distance, distance_count):\n",
    "    edge_list = []\n",
    "    if distance == distance_count:\n",
    "        return\n",
    "    distance_count += 1\n",
    "    paper_list = filter(paper_dict, '@', author)\n",
    "    cite_author_list = []\n",
    "    for paper in paper_list:\n",
    "        if paper_dict[paper]['%'] is not None:\n",
    "            for cite in paper_dict[paper]['%']:\n",
    "                cite_author_list+=paper_dict[cite]['@']\n",
    "    for cite_auth in cite_author_list:\n",
    "        edge_list.append((author, cite_auth))\n",
    "        if author_add_edge(paper_dict, cite_auth, distance, distance_count) is not None:\n",
    "            edge_list += author_add_edge(paper_dict, cite_auth, distance, distance_count)      \n",
    "    return edge_list  \n",
    "\n",
    "def author_citation_edge_list(paper_dict, author, distance):\n",
    "    edge_list = []\n",
    "    distance_count = 0\n",
    "    edge_list+=author_add_edge(paper_dict, author, distance, distance_count)\n",
    "    return (edge_list)"
   ]
  },
  {
   "cell_type": "code",
   "execution_count": null,
   "metadata": {},
   "outputs": [],
   "source": []
  }
 ],
 "metadata": {
  "kernelspec": {
   "display_name": "Python 3",
   "language": "python",
   "name": "python3"
  },
  "language_info": {
   "codemirror_mode": {
    "name": "ipython",
    "version": 3
   },
   "file_extension": ".py",
   "mimetype": "text/x-python",
   "name": "python",
   "nbconvert_exporter": "python",
   "pygments_lexer": "ipython3",
   "version": "3.7.3"
  }
 },
 "nbformat": 4,
 "nbformat_minor": 4
}
